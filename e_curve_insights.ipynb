{
 "cells": [
  {
   "cell_type": "markdown",
   "id": "3bcae53d-3130-4722-93dd-27c21c7153de",
   "metadata": {},
   "source": [
    "# Elliptic Curve Insight\n",
    "\n",
    "Author: Gyavira Ayebare.B."
   ]
  },
  {
   "cell_type": "markdown",
   "id": "cb557098-5351-4e86-bb9a-5b01a009df87",
   "metadata": {},
   "source": [
    "---"
   ]
  },
  {
   "cell_type": "markdown",
   "id": "9910b3af-34d6-468a-bfb5-f8ec45b26b7d",
   "metadata": {},
   "source": [
    "## Condition I: when only the solutions are rational"
   ]
  },
  {
   "cell_type": "markdown",
   "id": "104c0ad0-5899-4193-a3e5-79d700c9ba96",
   "metadata": {},
   "source": [
    "Given an elliptic curve where A and B are constants such that:\n",
    "\n",
    "$ y^2 = x^3 + Ax + B $\n",
    "\n",
    "and rational values for x and y in the form of:\n",
    "\n",
    "$ y = \\frac{a}{b} $\n",
    "\n",
    "$ x = \\frac{c}{d} $"
   ]
  },
  {
   "cell_type": "markdown",
   "id": "988710d9-52c2-41ff-b41f-b226302f7fd3",
   "metadata": {},
   "source": [
    "---"
   ]
  },
  {
   "cell_type": "markdown",
   "id": "4c7bf4fa-bdd9-4170-8eeb-3740b256a822",
   "metadata": {},
   "source": [
    "$ y^2 - x^3 = Ax + B $\n",
    "\n",
    "> In simple terms, the difference between the square and the cube of 2 variables, is a linear equation relative to the variable whose cube is being taken, such that its gradient is a constant, A and it's x-intercept is another constant, B"
   ]
  },
  {
   "cell_type": "markdown",
   "id": "9cfd2a81-1faa-4a72-a004-184cca17f7a6",
   "metadata": {},
   "source": [
    "---"
   ]
  },
  {
   "cell_type": "markdown",
   "id": "f9d7a366-1b38-40e5-b667-1d8809b95656",
   "metadata": {},
   "source": [
    "Performing replacements:\n",
    "$$ \\left(\\frac{a}{b}\\right)^2 - \\left(\\frac{c}{d}\\right)^3 = A\\left(\\frac{c}{d}\\right) + B $$\n",
    "\n",
    "Expanding the left hand side:\n",
    "$$ \\frac{d^3a^2 - c^3b^2}{d^3b^2} = \\frac{Ac + Bd}{d} $$\n",
    "\n",
    "Removing denominators:\n",
    "$$ (d^3a^2 - c^3b^2) = d^2b^2(Ac + Bd) $$\n",
    "\n",
    "Collecting like terms:\n",
    "$$ d^3(a^2 - b^2B) = c(d^2b^2A + c^2b^2) $$\n",
    "\n",
    "Placing the constants A and B on the same side of the equation:\n",
    "$$ \\frac{d^3}{c} = \\frac{(cb)^2 + (db)^2A}{a^2 - b^2B} $$\n",
    "\n",
    "Adjusting equation to fit insight:\n",
    "$$ \\frac{d^3}{c} = \\frac{(cb)^2 + (db)^2 + (A-1)(db)^2}{(a^2 - b^2) - (B-1)b^2} $$\n"
   ]
  },
  {
   "cell_type": "markdown",
   "id": "20058596-9880-4448-bbbb-7a24c71a9bd9",
   "metadata": {},
   "source": [
    "> "
   ]
  },
  {
   "cell_type": "markdown",
   "id": "f2963ce0-2632-4e59-b680-3262831545d8",
   "metadata": {},
   "source": [
    "> The equation represents the ratio of the cube of d to c, where A and B are factors that represent the excesses in the variables of ratios of the sum of two squares to the difference of two squares."
   ]
  },
  {
   "cell_type": "markdown",
   "id": "175cc362-a0e5-4d22-9bcc-1a88565eb518",
   "metadata": {},
   "source": [
    "---"
   ]
  },
  {
   "cell_type": "markdown",
   "id": "dd979d14-40ce-449d-8077-e4ede0b0d608",
   "metadata": {},
   "source": [
    "### Examples"
   ]
  },
  {
   "cell_type": "markdown",
   "id": "0a8cf0cf-6f42-4cc8-a717-08e05662e6ff",
   "metadata": {},
   "source": [
    "Obtained from: [Wikipedia Elliptic curve](https://en.wikipedia.org/wiki/Elliptic_curve#Integral_points)"
   ]
  },
  {
   "cell_type": "code",
   "execution_count": 1,
   "id": "7de1269f-b027-4309-bc2b-e0bf0d685a58",
   "metadata": {},
   "outputs": [
    {
     "name": "stdout",
     "output_type": "stream",
     "text": [
      "LHS: -0.5,\t RHS: -0.5\n",
      "LHS: -1.0,\t RHS: -1.0\n",
      "LHS: 0.5,\t RHS: 0.5\n",
      "LHS: 0.25,\t RHS: 0.25\n",
      "LHS: 0.125,\t RHS: 0.125\n",
      "LHS: 0.023255813953488372,\t RHS: 0.023255813953488372\n",
      "LHS: 0.019230769230769232,\t RHS: 0.019230769230769232\n"
     ]
    }
   ],
   "source": [
    "# Example 1:\n",
    "# y^2 = x^3 + 17\n",
    "\n",
    "results = [ (-2, 3), (-1, 4), (2,5), (4,9), (8,23), (43, 282), (52, 375) ]\n",
    "\n",
    "A, B = 0, 17\n",
    "for indx, item in enumerate(results):\n",
    "    a, b, c, d = item[1], 1, item[0], 1\n",
    "    numer, deno = (c*b)**2 + (d*b)**2 + (A-1)*(d*b)**2, a**2 - b**2 - (B-1)*b**2\n",
    "    lhs, rhs = d**3/c,  numer / deno\n",
    "    \n",
    "    print(f'LHS: {lhs},\\t RHS: {rhs}')\n"
   ]
  },
  {
   "cell_type": "code",
   "execution_count": 2,
   "id": "d2d8d303-684d-4a49-8b1a-ca72e93f517d",
   "metadata": {},
   "outputs": [
    {
     "name": "stdout",
     "output_type": "stream",
     "text": [
      "LHS: -1.0,\t RHS: -1.0\n",
      "LHS: 0.5,\t RHS: 0.5\n",
      "LHS: 0.0029585798816568047,\t RHS: 0.0029585798816568047\n"
     ]
    }
   ],
   "source": [
    "# nice -> there was a divide by zero error \n",
    "\n",
    "# Example 2\n",
    "# y^2 = x^3 − 2x\n",
    "\n",
    "results = [ (-1, 1), (2, 2), (338, 6214) ]         # (0, 0)\n",
    "\n",
    "A, B = -2, 0\n",
    "for indx, item in enumerate(results):\n",
    "    a, b, c, d = item[1], 1, item[0], 1\n",
    "    numer, deno = (c*b)**2 + (d*b)**2 + (A-1)*(d*b)**2, a**2 - b**2 - (B-1)*b**2\n",
    "    lhs, rhs = d**3/c,  numer / deno\n",
    "    \n",
    "    print(f'LHS: {lhs},\\t RHS: {rhs}')    # , numerator: {numer}, deno: {deno}"
   ]
  },
  {
   "cell_type": "markdown",
   "id": "8b1af4f5-ace9-4fc2-814b-0eeb240c0e23",
   "metadata": {},
   "source": [
    "---"
   ]
  },
  {
   "cell_type": "markdown",
   "id": "f56533c4-3d33-46e6-9bf3-456d0e6904ba",
   "metadata": {},
   "source": [
    "### Fraction composites!"
   ]
  },
  {
   "cell_type": "code",
   "execution_count": 3,
   "id": "8daf3c48-bcd6-4e1c-b150-715c3d92a9d9",
   "metadata": {},
   "outputs": [
    {
     "name": "stdout",
     "output_type": "stream",
     "text": [
      "LHS: -2.0,\t RHS: -2.0\n",
      "LHS: -1.0,\t RHS: -1.0\n"
     ]
    }
   ],
   "source": [
    "## Verifying something...\n",
    "# y^2 = x^3 + 17\n",
    "\n",
    "# (-2, 3), (-1, 4) == (-4/2, 9/3), (1/-1, -8/-2)\n",
    "results = [ (-4,2 , 9,3), (1,-1 , -8,-2) ]\n",
    "\n",
    "A, B = 0, 17\n",
    "for indx, item in enumerate(results):\n",
    "    a, b, c, d = item[2], item[3], item[0], item[1]\n",
    "    numer, deno = (c*b)**2 + (d*b)**2 + (A-1)*(d*b)**2, a**2 - b**2 - (B-1)*b**2\n",
    "    lhs, rhs = d**3/c,  numer / deno\n",
    "    \n",
    "    print(f'LHS: {lhs},\\t RHS: {rhs}')\n"
   ]
  },
  {
   "cell_type": "markdown",
   "id": "a66e51a9-1194-4230-ba90-6b19ef27b226",
   "metadata": {},
   "source": [
    "> It seems that whichever rational numbers that can generate the original fraction answers are also answers themselves..."
   ]
  },
  {
   "cell_type": "code",
   "execution_count": null,
   "id": "873b9744-62e0-4f43-a279-845a17d1ad2b",
   "metadata": {},
   "outputs": [],
   "source": []
  },
  {
   "cell_type": "markdown",
   "id": "5b53dbb8-8032-42ca-b9dd-ffcc40fb2639",
   "metadata": {},
   "source": [
    "## Condition II: when only the constants are rational"
   ]
  },
  {
   "cell_type": "markdown",
   "id": "9de80c36-fb0c-4f65-9695-a23614f6e153",
   "metadata": {},
   "source": [
    "Given an elliptic curve where A and B are constants such that:\n",
    "\n",
    "$ y^2 = x^3 + Ax + B $\n",
    "\n",
    "and rational constants for A and B in the form of:\n",
    "\n",
    "$ A = \\frac{A_{nume}}{A_{deno}} $\n",
    "\n",
    "$ B = \\frac{B_{nume}}{B_{deno}} $\n",
    "\n",
    "where deno represents denominator and nume represents numerator"
   ]
  },
  {
   "cell_type": "markdown",
   "id": "90ca2b0e-3ac2-4eb2-823c-0e1b1c8177fe",
   "metadata": {},
   "source": [
    "---"
   ]
  },
  {
   "cell_type": "markdown",
   "id": "9768a663-63aa-4f21-b6ac-62a162991492",
   "metadata": {},
   "source": [
    "Replalcing terms into main equation:\n",
    "$$ y^2 = x^3 + \\frac{x A_{nume}}{A_{deno}} + \\frac{B_{nume}}{B_{deno}} $$\n",
    "\n",
    "Removing denominator and collecting like terms:\n",
    "$$ A_{deno}(y^2 B_{deno} - B_{nume}) = B_{deno}(x^3 A_{deno} + x A_{nume}) $$\n",
    "\n",
    "In all:\n",
    "$$ y^2 B_{deno} - B_{nume} = \\frac{x B_{deno}}{A_{deno}} (x^2 A_{deno} + A_{nume}) $$\n"
   ]
  },
  {
   "cell_type": "markdown",
   "id": "763e98f0-ddff-4690-9550-dd8a15ac625d",
   "metadata": {},
   "source": [
    "---"
   ]
  },
  {
   "cell_type": "code",
   "execution_count": null,
   "id": "8ed08edf-928a-4fe1-ad9f-06952e455aba",
   "metadata": {},
   "outputs": [],
   "source": []
  },
  {
   "cell_type": "markdown",
   "id": "f6520bfe-82c3-4d24-973b-2bc3955dc107",
   "metadata": {},
   "source": [
    "## Condition III: when both the solutions and constants are rational"
   ]
  },
  {
   "cell_type": "markdown",
   "id": "cea124d0-d458-496d-924e-973e4fd2179e",
   "metadata": {},
   "source": [
    "Given an elliptic curve where A and B are constants such that:\n",
    "\n",
    "$ y^2 = x^3 + Ax + B $\n",
    "\n",
    "Rational values for x and y along with rational constants for A and B in the form of:\n",
    "\n",
    "$ y = \\frac{a}{b} $\n",
    "\n",
    "$ x = \\frac{c}{d} $\n",
    "\n",
    "$ A = \\frac{A_{nume}}{A_{deno}} $\n",
    "\n",
    "$ B = \\frac{B_{nume}}{B_{deno}} $\n",
    "\n",
    "where deno represents denominator and nume represents numerator"
   ]
  },
  {
   "cell_type": "markdown",
   "id": "dc8b2e2d-78e2-47e6-a0f1-83d960e9cb50",
   "metadata": {},
   "source": [
    "---"
   ]
  },
  {
   "cell_type": "markdown",
   "id": "ba42cb08-84cf-42b3-b243-7f847525d37f",
   "metadata": {},
   "source": [
    "From the equation:\n",
    "$$ \\frac{d^3}{c} = \\frac{(cb)^2 + (db)^2 + (A-1)(db)^2}{(a^2 - b^2) - (B-1)b^2} $$\n",
    "\n",
    "$$ \\frac{d^3}{c} = \\frac{(cb)^2 + (db)^2 + (\\frac{A_{nume}}{A_{deno}}-\\frac{A_{deno}}{A_{deno}})(db)^2}{(a^2 - b^2) - (\\frac{B_{nume}}{B_{deno}}-\\frac{B_{deno}}{B_{deno}})b^2} $$\n",
    "\n",
    "Adjusting signature:\n",
    "$$ \\frac{d^3}{c} = \\frac{(cb)^2 + (db)^2 - (\\frac{A_{deno}-A_{nume}}{A_{deno}})(db)^2}{(a^2 - b^2) + (\\frac{B_{deno}-B_{nume}}{B_{deno}})b^2} $$\n",
    "\n"
   ]
  },
  {
   "cell_type": "markdown",
   "id": "25a2e303-56e4-4664-9583-8bb1be6d15b3",
   "metadata": {},
   "source": [
    "---"
   ]
  },
  {
   "cell_type": "code",
   "execution_count": null,
   "id": "9ac00314-6181-408b-b489-59737349717f",
   "metadata": {},
   "outputs": [],
   "source": []
  }
 ],
 "metadata": {
  "kernelspec": {
   "display_name": "Python 3 (ipykernel)",
   "language": "python",
   "name": "python3"
  },
  "language_info": {
   "codemirror_mode": {
    "name": "ipython",
    "version": 3
   },
   "file_extension": ".py",
   "mimetype": "text/x-python",
   "name": "python",
   "nbconvert_exporter": "python",
   "pygments_lexer": "ipython3",
   "version": "3.10.10"
  },
  "widgets": {
   "application/vnd.jupyter.widget-state+json": {
    "state": {},
    "version_major": 2,
    "version_minor": 0
   }
  }
 },
 "nbformat": 4,
 "nbformat_minor": 5
}
